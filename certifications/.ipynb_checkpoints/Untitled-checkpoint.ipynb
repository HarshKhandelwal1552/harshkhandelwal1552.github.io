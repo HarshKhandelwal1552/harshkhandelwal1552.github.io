{
 "cells": [
  {
   "cell_type": "code",
   "execution_count": 4,
   "metadata": {},
   "outputs": [
    {
     "name": "stdout",
     "output_type": "stream",
     "text": [
      "['facial key points.png', 'google cloud.png', 'language classification.png', 'microsoft sql.png', 'ML udemy.png', 'ML.png', 'NN.png']\n"
     ]
    }
   ],
   "source": [
    "import os\n",
    "import PIL\n",
    "filelist=os.listdir()\n",
    "for fichier in filelist[:]: # filelist[:] makes a copy of filelist.\n",
    "    if not(fichier.endswith(\".png\")):\n",
    "        filelist.remove(fichier)\n",
    "print(filelist)"
   ]
  },
  {
   "cell_type": "code",
   "execution_count": 14,
   "metadata": {},
   "outputs": [],
   "source": [
    "for _, i in enumerate(filelist):\n",
    "#     img = plt.imread(i)\n",
    "    img = PIL.Image.open(str(i))\n",
    "    img = img.resize((506,295))\n",
    "    img.save(f'1{i}')\n",
    "#     img = plt.imsave(img, (506, 295))\n",
    "#     cv2.imwrite(f\"{i}1\", img)\n",
    "    "
   ]
  },
  {
   "cell_type": "code",
   "execution_count": null,
   "metadata": {},
   "outputs": [],
   "source": []
  }
 ],
 "metadata": {
  "kernelspec": {
   "display_name": "gputest",
   "language": "python",
   "name": "gputest"
  },
  "language_info": {
   "codemirror_mode": {
    "name": "ipython",
    "version": 3
   },
   "file_extension": ".py",
   "mimetype": "text/x-python",
   "name": "python",
   "nbconvert_exporter": "python",
   "pygments_lexer": "ipython3",
   "version": "3.7.9"
  }
 },
 "nbformat": 4,
 "nbformat_minor": 4
}
